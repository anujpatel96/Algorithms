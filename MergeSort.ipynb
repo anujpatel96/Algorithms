{
  "nbformat": 4,
  "nbformat_minor": 0,
  "metadata": {
    "colab": {
      "name": "MergeSort.ipynb",
      "provenance": [],
      "collapsed_sections": [],
      "authorship_tag": "ABX9TyMkfdbK12x9ecxZNqmfxj7j",
      "include_colab_link": true
    },
    "kernelspec": {
      "name": "python3",
      "display_name": "Python 3"
    }
  },
  "cells": [
    {
      "cell_type": "markdown",
      "metadata": {
        "id": "view-in-github",
        "colab_type": "text"
      },
      "source": [
        "<a href=\"https://colab.research.google.com/github/anujpatel96/Algorithms/blob/main/MergeSort.ipynb\" target=\"_parent\"><img src=\"https://colab.research.google.com/assets/colab-badge.svg\" alt=\"Open In Colab\"/></a>"
      ]
    },
    {
      "cell_type": "code",
      "metadata": {
        "id": "CMtfzqY1RJnH",
        "colab": {
          "base_uri": "https://localhost:8080/"
        },
        "outputId": "f1d4bd18-6673-4d2b-f7c5-699de0c3870e"
      },
      "source": [
        "def merge_sort(arr):\r\n",
        "    if len(arr) <= 1:\r\n",
        "        return\r\n",
        "\r\n",
        "    mid = len(arr)//2\r\n",
        "\r\n",
        "    left = arr[:mid]\r\n",
        "    right = arr[mid:]\r\n",
        "\r\n",
        "    merge_sort(left)\r\n",
        "    merge_sort(right)\r\n",
        "\r\n",
        "    merge_two_sorted_lists(left, right, arr)\r\n",
        "\r\n",
        "def merge_two_sorted_lists(a,b,arr):\r\n",
        "    len_a = len(a)\r\n",
        "    len_b = len(b)\r\n",
        "\r\n",
        "    i = j = k = 0\r\n",
        "\r\n",
        "    while i < len_a and j < len_b:\r\n",
        "        if a[i] <= b[j]:\r\n",
        "            arr[k] = a[i]\r\n",
        "            i+=1\r\n",
        "        else:\r\n",
        "            arr[k] = b[j]\r\n",
        "            j+=1\r\n",
        "        k+=1\r\n",
        "\r\n",
        "    while i < len_a:\r\n",
        "        arr[k] = a[i]\r\n",
        "        i+=1\r\n",
        "        k+=1\r\n",
        "\r\n",
        "    while j < len_b:\r\n",
        "        arr[k] = b[j]\r\n",
        "        j+=1\r\n",
        "        k+=1\r\n",
        "\r\n",
        "if __name__ == '__main__':\r\n",
        "    elements = [2,4,1,3,8,6]\r\n",
        "    print(\"List =======>\",elements) \r\n",
        "    merge_sort(elements)\r\n",
        "    print(\"SortedList =>\",elements)\r\n"
      ],
      "execution_count": 3,
      "outputs": [
        {
          "output_type": "stream",
          "text": [
            "List =======> [2, 4, 1, 3, 8, 6]\n",
            "SortedList => [1, 2, 3, 4, 6, 8]\n"
          ],
          "name": "stdout"
        }
      ]
    },
    {
      "cell_type": "code",
      "metadata": {
        "colab": {
          "base_uri": "https://localhost:8080/"
        },
        "id": "FFr_CrHmSRr-",
        "outputId": "e32deaeb-529b-43ad-c483-fde897157a3b"
      },
      "source": [
        "def merge_two_sorted_lists(a,b):\r\n",
        "  sorted_list = []\r\n",
        "  len_a = len(a)\r\n",
        "  len_b = len(b)\r\n",
        "\r\n",
        "  i = j = 0\r\n",
        "\r\n",
        "  while i < len_a and j < len_b:\r\n",
        "      if a[i] <= b[j]:\r\n",
        "        sorted_list.append(a[i])\r\n",
        "        i+=1\r\n",
        "      else:\r\n",
        "          sorted_list.append(b[j])\r\n",
        "          j+=1\r\n",
        "    \r\n",
        "  while i < len_a:\r\n",
        "      sorted_list.append(a[i])\r\n",
        "      i+=1\r\n",
        "\r\n",
        "  while j < len_b:\r\n",
        "      sorted_list.append(b[j])\r\n",
        "      j+=1\r\n",
        "\r\n",
        "  return sorted_list\r\n",
        "\r\n",
        "if __name__ == '__main__':\r\n",
        "  list1 = [1,2,5,7,8]\r\n",
        "  list2 = [3,4,6,9,10]\r\n",
        "  print(f\"List1 ==============> {list1}\")\r\n",
        "  print(f\"List2 ==============> {list2}\") \r\n",
        "  result = merge_two_sorted_lists(list1,list2)\r\n",
        "  print(\"Sorted Megerd List =>\",result)\r\n"
      ],
      "execution_count": 9,
      "outputs": [
        {
          "output_type": "stream",
          "text": [
            "List1 ==============> [1, 2, 5, 7, 8]\n",
            "List2 ==============> [3, 4, 6, 9, 10]\n",
            "Sorted Megerd List => [1, 2, 3, 4, 5, 6, 7, 8, 9, 10]\n"
          ],
          "name": "stdout"
        }
      ]
    }
  ]
}