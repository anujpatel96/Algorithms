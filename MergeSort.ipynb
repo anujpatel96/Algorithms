{
  "nbformat": 4,
  "nbformat_minor": 0,
  "metadata": {
    "colab": {
      "name": "MergeSort.ipynb",
      "provenance": [],
      "authorship_tag": "ABX9TyOc5er1imIy2hMNJNTkhctV",
      "include_colab_link": true
    },
    "kernelspec": {
      "name": "python3",
      "display_name": "Python 3"
    }
  },
  "cells": [
    {
      "cell_type": "markdown",
      "metadata": {
        "id": "view-in-github",
        "colab_type": "text"
      },
      "source": [
        "<a href=\"https://colab.research.google.com/github/anujpatel96/Algorithms/blob/main/MergeSort.ipynb\" target=\"_parent\"><img src=\"https://colab.research.google.com/assets/colab-badge.svg\" alt=\"Open In Colab\"/></a>"
      ]
    },
    {
      "cell_type": "code",
      "metadata": {
        "id": "CMtfzqY1RJnH",
        "colab": {
          "base_uri": "https://localhost:8080/"
        },
        "outputId": "4715edf0-48f5-4567-84e7-759ad9b50c09"
      },
      "source": [
        "def merge_sort(arr):\r\n",
        "    if len(arr) <= 1:\r\n",
        "        return\r\n",
        "\r\n",
        "    mid = len(arr)//2\r\n",
        "\r\n",
        "    left = arr[:mid]\r\n",
        "    right = arr[mid:]\r\n",
        "\r\n",
        "    merge_sort(left)\r\n",
        "    merge_sort(right)\r\n",
        "\r\n",
        "    merge_two_sorted_lists(left, right, arr)\r\n",
        "\r\n",
        "def merge_two_sorted_lists(a,b,arr):\r\n",
        "    len_a = len(a)\r\n",
        "    len_b = len(b)\r\n",
        "\r\n",
        "    i = j = k = 0\r\n",
        "\r\n",
        "    while i < len_a and j < len_b:\r\n",
        "        if a[i] <= b[j]:\r\n",
        "            arr[k] = a[i]\r\n",
        "            i+=1\r\n",
        "        else:\r\n",
        "            arr[k] = b[j]\r\n",
        "            j+=1\r\n",
        "        k+=1\r\n",
        "\r\n",
        "    while i < len_a:\r\n",
        "        arr[k] = a[i]\r\n",
        "        i+=1\r\n",
        "        k+=1\r\n",
        "\r\n",
        "    while j < len_b:\r\n",
        "        arr[k] = b[j]\r\n",
        "        j+=1\r\n",
        "        k+=1\r\n",
        "\r\n",
        "if __name__ == '__main__':\r\n",
        "    elements = [2,4,1,3,8,6]\r\n",
        "    print(\"List =>\",elements) \r\n",
        "    merge_sort(elements)\r\n",
        "    print(\"SortedList =>\",elements)\r\n"
      ],
      "execution_count": 7,
      "outputs": [
        {
          "output_type": "stream",
          "text": [
            "List => [2, 4, 1, 3, 8, 6]\n",
            "SortedList => [1, 2, 3, 4, 6, 8]\n"
          ],
          "name": "stdout"
        }
      ]
    }
  ]
}