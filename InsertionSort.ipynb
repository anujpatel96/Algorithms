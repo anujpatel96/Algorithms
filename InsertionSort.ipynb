{
  "nbformat": 4,
  "nbformat_minor": 0,
  "metadata": {
    "colab": {
      "name": "InsertionSort.ipynb",
      "provenance": [],
      "authorship_tag": "ABX9TyOj2vTzdTZp8nxMPx6VTxeB",
      "include_colab_link": true
    },
    "kernelspec": {
      "name": "python3",
      "display_name": "Python 3"
    }
  },
  "cells": [
    {
      "cell_type": "markdown",
      "metadata": {
        "id": "view-in-github",
        "colab_type": "text"
      },
      "source": [
        "<a href=\"https://colab.research.google.com/github/anujpatel96/Algorithms/blob/main/InsertionSort.ipynb\" target=\"_parent\"><img src=\"https://colab.research.google.com/assets/colab-badge.svg\" alt=\"Open In Colab\"/></a>"
      ]
    },
    {
      "cell_type": "code",
      "metadata": {
        "colab": {
          "base_uri": "https://localhost:8080/"
        },
        "id": "dZGwY8d0qTMW",
        "outputId": "4840b00e-33ba-45ff-a90c-01d98e4633ac"
      },
      "source": [
        "def insertion_sort(arr):\r\n",
        "    for i in range(1, len(arr)):\r\n",
        "        anchor = arr[i]\r\n",
        "        j = i - 1\r\n",
        "        while j>=0 and anchor < arr[j]:\r\n",
        "            arr[j+1] = arr[j]\r\n",
        "            j = j - 1\r\n",
        "        arr[j+1] = anchor\r\n",
        "\r\n",
        "if __name__ == '__main__':\r\n",
        "    elements = [2,4,1,3,8,6]\r\n",
        "    print(\"List =======>\",elements) \r\n",
        "    insertion_sort(elements)\r\n",
        "    print(\"SortedList =>\",elements)"
      ],
      "execution_count": 2,
      "outputs": [
        {
          "output_type": "stream",
          "text": [
            "List =======> [2, 4, 1, 3, 8, 6]\n",
            "SortedList => [1, 2, 3, 4, 6, 8]\n"
          ],
          "name": "stdout"
        }
      ]
    }
  ]
}