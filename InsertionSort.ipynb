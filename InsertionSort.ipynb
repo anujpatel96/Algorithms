{
  "nbformat": 4,
  "nbformat_minor": 0,
  "metadata": {
    "colab": {
      "name": "InsertionSort.ipynb",
      "provenance": [],
      "authorship_tag": "ABX9TyOvqDqZvi8r4IXEdee/OWTF",
      "include_colab_link": true
    },
    "kernelspec": {
      "name": "python3",
      "display_name": "Python 3"
    }
  },
  "cells": [
    {
      "cell_type": "markdown",
      "metadata": {
        "id": "view-in-github",
        "colab_type": "text"
      },
      "source": [
        "<a href=\"https://colab.research.google.com/github/anujpatel96/Algorithms/blob/main/InsertionSort.ipynb\" target=\"_parent\"><img src=\"https://colab.research.google.com/assets/colab-badge.svg\" alt=\"Open In Colab\"/></a>"
      ]
    },
    {
      "cell_type": "code",
      "metadata": {
        "colab": {
          "base_uri": "https://localhost:8080/"
        },
        "id": "dZGwY8d0qTMW",
        "outputId": "64ff47fc-e4d6-4841-f759-2b8a42b05ec6"
      },
      "source": [
        "def insertion_sort(elements):\r\n",
        "    for i in range(1, len(elements)):\r\n",
        "        anchor = elements[i]\r\n",
        "        j = i - 1\r\n",
        "        while j>=0 and anchor < elements[j]:\r\n",
        "            elements[j+1] = elements[j]\r\n",
        "            j = j - 1\r\n",
        "        elements[j+1] = anchor\r\n",
        "\r\n",
        "if __name__ == '__main__':\r\n",
        "    elements = [2,4,1,3,8,6]\r\n",
        "    print(\"List =>\",elements) \r\n",
        "    insertion_sort(elements)\r\n",
        "    print(\"SortedList =>\",elements)"
      ],
      "execution_count": 1,
      "outputs": [
        {
          "output_type": "stream",
          "text": [
            "List => [2, 4, 1, 3, 8, 6]\n",
            "SortedList => [1, 2, 3, 4, 6, 8]\n"
          ],
          "name": "stdout"
        }
      ]
    }
  ]
}