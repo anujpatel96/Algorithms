{
  "nbformat": 4,
  "nbformat_minor": 0,
  "metadata": {
    "colab": {
      "name": "SelectionSort.ipynb",
      "provenance": [],
      "authorship_tag": "ABX9TyNwUCiM7tfoyswCntGRExbp",
      "include_colab_link": true
    },
    "kernelspec": {
      "name": "python3",
      "display_name": "Python 3"
    }
  },
  "cells": [
    {
      "cell_type": "markdown",
      "metadata": {
        "id": "view-in-github",
        "colab_type": "text"
      },
      "source": [
        "<a href=\"https://colab.research.google.com/github/anujpatel96/Algorithms/blob/main/SelectionSort.ipynb\" target=\"_parent\"><img src=\"https://colab.research.google.com/assets/colab-badge.svg\" alt=\"Open In Colab\"/></a>"
      ]
    },
    {
      "cell_type": "code",
      "metadata": {
        "colab": {
          "base_uri": "https://localhost:8080/"
        },
        "id": "q37YCR7gtHHT",
        "outputId": "62d793cc-f165-4cc0-9e0c-ed141e71b28b"
      },
      "source": [
        "def selection_sort(arr):\r\n",
        "  for i in range(len(arr)):\r\n",
        "    for j in range(i+1, len(arr)):\r\n",
        "      if arr[j] < arr[i]:\r\n",
        "       arr[i],  arr[j] =  arr[j],  arr[i]\r\n",
        "  return elements\r\n",
        "\r\n",
        "if __name__ == '__main__':\r\n",
        "  elements = [2,4,1,3,8,6]\r\n",
        "  print(\"List =======>\",elements) \r\n",
        "  selection_sort(elements)\r\n",
        "  print(\"SortedList =>\",elements)"
      ],
      "execution_count": 4,
      "outputs": [
        {
          "output_type": "stream",
          "text": [
            "List =======> [2, 4, 1, 3, 8, 6]\n",
            "SortedList => [1, 2, 3, 4, 6, 8]\n"
          ],
          "name": "stdout"
        }
      ]
    },
    {
      "cell_type": "code",
      "metadata": {
        "colab": {
          "base_uri": "https://localhost:8080/"
        },
        "id": "RHT-2OI3woSq",
        "outputId": "ea0badc5-d55c-4142-b89a-12161a95645a"
      },
      "source": [
        "def selection_sort(arr):\r\n",
        "    size = len(arr)\r\n",
        "    for i in range(size-1):\r\n",
        "        min_index = i\r\n",
        "        for j in range(min_index+1,size):\r\n",
        "            if arr[j] < arr[min_index]:\r\n",
        "                min_index = j\r\n",
        "        if i != min_index:\r\n",
        "            arr[i], arr[min_index] = arr[min_index], arr[i]\r\n",
        "\r\n",
        "if __name__ == '__main__':\r\n",
        "  elements = [2,4,1,3,8,6]\r\n",
        "  print(\"List =======>\",elements) \r\n",
        "  selection_sort(elements)\r\n",
        "  print(\"SortedList =>\",elements)"
      ],
      "execution_count": 6,
      "outputs": [
        {
          "output_type": "stream",
          "text": [
            "List =======> [2, 4, 1, 3, 8, 6]\n",
            "SortedList => [1, 2, 3, 4, 6, 8]\n"
          ],
          "name": "stdout"
        }
      ]
    }
  ]
}