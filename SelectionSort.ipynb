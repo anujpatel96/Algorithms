{
  "nbformat": 4,
  "nbformat_minor": 0,
  "metadata": {
    "colab": {
      "name": "SelectionSort.ipynb",
      "provenance": [],
      "authorship_tag": "ABX9TyPa4s5mZVqyX8iW88HGAVWH",
      "include_colab_link": true
    },
    "kernelspec": {
      "name": "python3",
      "display_name": "Python 3"
    }
  },
  "cells": [
    {
      "cell_type": "markdown",
      "metadata": {
        "id": "view-in-github",
        "colab_type": "text"
      },
      "source": [
        "<a href=\"https://colab.research.google.com/github/anujpatel96/Algorithms/blob/main/SelectionSort.ipynb\" target=\"_parent\"><img src=\"https://colab.research.google.com/assets/colab-badge.svg\" alt=\"Open In Colab\"/></a>"
      ]
    },
    {
      "cell_type": "code",
      "metadata": {
        "colab": {
          "base_uri": "https://localhost:8080/"
        },
        "id": "q37YCR7gtHHT",
        "outputId": "d8828c2b-5321-4423-d346-c574e6bed343"
      },
      "source": [
        "def selection_sort(arr):\r\n",
        "  for i in range(len(arr)):\r\n",
        "    for j in range(i+1, len(arr)):\r\n",
        "      if arr[j] < arr[i]:\r\n",
        "       arr[i],  arr[j] =  arr[j],  arr[i]\r\n",
        "  return elements\r\n",
        "\r\n",
        "if __name__ == '__main__':\r\n",
        "  elements = [2,4,1,3,8,6]\r\n",
        "  print(\"List =>\",elements) \r\n",
        "  selection_sort(elements)\r\n",
        "  print(\"SortedList =>\",elements)"
      ],
      "execution_count": null,
      "outputs": [
        {
          "output_type": "stream",
          "text": [
            "List => [2, 4, 1, 3, 8, 6]\n",
            "SortedList => [1, 2, 3, 4, 6, 8]\n"
          ],
          "name": "stdout"
        }
      ]
    },
    {
      "cell_type": "code",
      "metadata": {
        "colab": {
          "base_uri": "https://localhost:8080/"
        },
        "id": "RHT-2OI3woSq",
        "outputId": "f1b8c0c9-3d82-489b-c6a3-9b6ba2e27ea8"
      },
      "source": [
        "def selection_sort(arr):\r\n",
        "    size = len(arr)\r\n",
        "    for i in range(size-1):\r\n",
        "        min_index = i\r\n",
        "        for j in range(min_index+1,size):\r\n",
        "            if arr[j] < arr[min_index]:\r\n",
        "                min_index = j\r\n",
        "        if i != min_index:\r\n",
        "            arr[i], arr[min_index] = arr[min_index], arr[i]\r\n",
        "\r\n",
        "if __name__ == '__main__':\r\n",
        "  elements = [2,4,1,3,8,6]\r\n",
        "  print(\"List =>\",elements) \r\n",
        "  selection_sort(elements)\r\n",
        "  print(\"SortedList =>\",elements)"
      ],
      "execution_count": null,
      "outputs": [
        {
          "output_type": "stream",
          "text": [
            "List => [2, 4, 1, 3, 8, 6]\n",
            "SortedList => [1, 2, 3, 4, 6, 8]\n"
          ],
          "name": "stdout"
        }
      ]
    }
  ]
}