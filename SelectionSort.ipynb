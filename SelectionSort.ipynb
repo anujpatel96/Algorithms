{
  "nbformat": 4,
  "nbformat_minor": 0,
  "metadata": {
    "colab": {
      "name": "SelectionSort.ipynb",
      "provenance": [],
      "authorship_tag": "ABX9TyPduaDaGR770w5Jk8h2kXh5",
      "include_colab_link": true
    },
    "kernelspec": {
      "name": "python3",
      "display_name": "Python 3"
    }
  },
  "cells": [
    {
      "cell_type": "markdown",
      "metadata": {
        "id": "view-in-github",
        "colab_type": "text"
      },
      "source": [
        "<a href=\"https://colab.research.google.com/github/anujpatel96/Algorithms/blob/main/SelectionSort.ipynb\" target=\"_parent\"><img src=\"https://colab.research.google.com/assets/colab-badge.svg\" alt=\"Open In Colab\"/></a>"
      ]
    },
    {
      "cell_type": "markdown",
      "metadata": {
        "id": "4LutGET0bBfc"
      },
      "source": [
        "**1. SelectionSort- Efficient Way**"
      ]
    },
    {
      "cell_type": "code",
      "metadata": {
        "colab": {
          "base_uri": "https://localhost:8080/"
        },
        "id": "RHT-2OI3woSq",
        "outputId": "03fb8093-5378-4bb9-924f-939e567ccd85"
      },
      "source": [
        "def selection_sort(arr):\r\n",
        "    size = len(arr)\r\n",
        "    for i in range(size-1):\r\n",
        "        min_index = i\r\n",
        "        for j in range(min_index+1,size):\r\n",
        "            if arr[j] < arr[min_index]:\r\n",
        "                min_index = j\r\n",
        "        if i != min_index:\r\n",
        "            arr[i], arr[min_index] = arr[min_index], arr[i]\r\n",
        "\r\n",
        "if __name__ == '__main__':\r\n",
        "  elements = [2,4,1,3,8,6]\r\n",
        "  print(\"List =======>\",elements) \r\n",
        "  selection_sort(elements)\r\n",
        "  print(\"SortedList =>\",elements)"
      ],
      "execution_count": 45,
      "outputs": [
        {
          "output_type": "stream",
          "text": [
            "List =======> [2, 4, 1, 3, 8, 6]\n",
            "SortedList => [1, 2, 3, 4, 6, 8]\n"
          ],
          "name": "stdout"
        }
      ]
    },
    {
      "cell_type": "markdown",
      "metadata": {
        "id": "hRBgWZCmbhe7"
      },
      "source": [
        "**2. SelectionSort**"
      ]
    },
    {
      "cell_type": "code",
      "metadata": {
        "colab": {
          "base_uri": "https://localhost:8080/"
        },
        "id": "q37YCR7gtHHT",
        "outputId": "8e5952b4-9fac-4025-dc92-2e00cb764318"
      },
      "source": [
        "def selection_sort(arr):\r\n",
        "  for i in range(len(arr)):\r\n",
        "    for j in range(i+1, len(arr)):\r\n",
        "      if arr[j] < arr[i]:\r\n",
        "       arr[i],  arr[j] =  arr[j],  arr[i]\r\n",
        "  return elements\r\n",
        "\r\n",
        "if __name__ == '__main__':\r\n",
        "  elements = [2,4,1,3,8,6]\r\n",
        "  print(\"List =======>\",elements) \r\n",
        "  selection_sort(elements)\r\n",
        "  print(\"SortedList =>\",elements)"
      ],
      "execution_count": 46,
      "outputs": [
        {
          "output_type": "stream",
          "text": [
            "List =======> [2, 4, 1, 3, 8, 6]\n",
            "SortedList => [1, 2, 3, 4, 6, 8]\n"
          ],
          "name": "stdout"
        }
      ]
    },
    {
      "cell_type": "markdown",
      "metadata": {
        "id": "rYc-_wDtbm7t"
      },
      "source": [
        "**3. SelectionSort- Recursive Approch**"
      ]
    },
    {
      "cell_type": "code",
      "metadata": {
        "colab": {
          "base_uri": "https://localhost:8080/"
        },
        "id": "Yeob_QapawTx",
        "outputId": "d678533c-7bae-4814-fc3b-afdb8eccfa00"
      },
      "source": [
        "ans = []\r\n",
        "\r\n",
        "def selection_sort(arr):\r\n",
        "    if len(arr) < 1:\r\n",
        "        return ans\r\n",
        "    temp = min(arr)\r\n",
        "    ans.append(temp)\r\n",
        "    arr.remove(temp)\r\n",
        "\r\n",
        "    return selection_sort(arr)\r\n",
        "\r\n",
        "\r\n",
        "if __name__ == '__main__':\r\n",
        "    elements = [2,4,1,3,8,6]\r\n",
        "    print(\"List =======>\", elements)\r\n",
        "    print(\"SortedList =>\", selection_sort(elements))"
      ],
      "execution_count": 55,
      "outputs": [
        {
          "output_type": "stream",
          "text": [
            "List =======> [2, 4, 1, 3, 8, 6]\n",
            "SortedList => [1, 2, 3, 4, 6, 8]\n"
          ],
          "name": "stdout"
        }
      ]
    }
  ]
}