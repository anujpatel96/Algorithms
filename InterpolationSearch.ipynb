{
  "nbformat": 4,
  "nbformat_minor": 0,
  "metadata": {
    "colab": {
      "name": "InterpolationSearch.ipynb",
      "provenance": [],
      "collapsed_sections": [],
      "authorship_tag": "ABX9TyNDSa4R5cSXUdlswujdMUrG",
      "include_colab_link": true
    },
    "kernelspec": {
      "name": "python3",
      "display_name": "Python 3"
    }
  },
  "cells": [
    {
      "cell_type": "markdown",
      "metadata": {
        "id": "view-in-github",
        "colab_type": "text"
      },
      "source": [
        "<a href=\"https://colab.research.google.com/github/anujpatel96/Algorithms/blob/main/InterpolationSearch.ipynb\" target=\"_parent\"><img src=\"https://colab.research.google.com/assets/colab-badge.svg\" alt=\"Open In Colab\"/></a>"
      ]
    },
    {
      "cell_type": "code",
      "metadata": {
        "colab": {
          "base_uri": "https://localhost:8080/"
        },
        "id": "0uqPFBaFMVVw",
        "outputId": "b8d902ab-d4e6-4131-9b45-0b8708d0f4c0"
      },
      "source": [
        "def InterpolationSearch(arr, element):\r\n",
        "  end_index = len(arr) - 1\r\n",
        "  start_index = 0\r\n",
        "\r\n",
        "  try:\r\n",
        "    while (end_index >= start_index):\r\n",
        "      pos = int(start_index + (element-arr[start_index])*(end_index-start_index) / (arr[end_index]-arr[start_index]))\r\n",
        "  \r\n",
        "      if arr[pos] == element:\r\n",
        "        return pos\r\n",
        "      if arr[pos] < element:\r\n",
        "        start_index = pos\r\n",
        "      if arr[pos] > element:\r\n",
        "        end_index = pos\r\n",
        "\r\n",
        "  except:\r\n",
        "    print(\"Number is not in the list\")\r\n",
        "\r\n",
        "\r\n",
        "if __name__ == '__main__':\r\n",
        "    numbers_list = [1,2,3,4,5,6]\r\n",
        "    number_to_find = 6\r\n",
        "\r\n",
        "    index = InterpolationSearch(numbers_list, number_to_find)\r\n",
        "    print(f\"InterPolationSearch found the number at index:\", index)\r\n"
      ],
      "execution_count": 19,
      "outputs": [
        {
          "output_type": "stream",
          "text": [
            "InterPolationSearch found the number at index: 5\n"
          ],
          "name": "stdout"
        }
      ]
    },
    {
      "cell_type": "markdown",
      "metadata": {
        "id": "WSLh7JZETmHh"
      },
      "source": [
        "**InterpolationSearch bold text Using Recusrsion**"
      ]
    },
    {
      "cell_type": "code",
      "metadata": {
        "colab": {
          "base_uri": "https://localhost:8080/"
        },
        "id": "vWR_eX-pSkK9",
        "outputId": "1df291b2-b86b-458f-d73f-5c7bfa3acde1"
      },
      "source": [
        "def InterpolationSearch_Recursive(arr, element, start_index, end_index):\r\n",
        "    if start_index < end_index:\r\n",
        "        return -1\r\n",
        "\r\n",
        "    pos = int(start_index + (element-arr[start_index])*(end_index-start_index) / (arr[end_index]-arr[start_index]))\r\n",
        "    if pos >= len(arr) or pos < 0:\r\n",
        "        return -1\r\n",
        "\r\n",
        "    if arr[pos] == element:\r\n",
        "        return pos\r\n",
        "\r\n",
        "    if arr[pos] < element:\r\n",
        "        start_index = pos\r\n",
        "    else:\r\n",
        "        end_index = pos\r\n",
        "\r\n",
        "    return binary_search_recursive(arr, element, start_index, end_index)\r\n",
        "\r\n",
        "if __name__ == '__main__':\r\n",
        "    numbers_list = [1,2,3,4,5,6]\r\n",
        "    number_to_find = 6\r\n",
        "\r\n",
        "    index = InterpolationSearch(numbers_list, number_to_find)\r\n",
        "    print(f\"InterPolationSearch found the number at index:\", index)\r\n"
      ],
      "execution_count": 20,
      "outputs": [
        {
          "output_type": "stream",
          "text": [
            "InterPolationSearch found the number at index: 5\n"
          ],
          "name": "stdout"
        }
      ]
    }
  ]
}