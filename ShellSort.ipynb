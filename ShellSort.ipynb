{
  "nbformat": 4,
  "nbformat_minor": 0,
  "metadata": {
    "colab": {
      "name": "ShellSort.ipynb",
      "provenance": [],
      "collapsed_sections": [],
      "authorship_tag": "ABX9TyM4/jbpqA3KHlYF8zbPr9Uv",
      "include_colab_link": true
    },
    "kernelspec": {
      "name": "python3",
      "display_name": "Python 3"
    }
  },
  "cells": [
    {
      "cell_type": "markdown",
      "metadata": {
        "id": "view-in-github",
        "colab_type": "text"
      },
      "source": [
        "<a href=\"https://colab.research.google.com/github/anujpatel96/Algorithms/blob/main/ShellSort.ipynb\" target=\"_parent\"><img src=\"https://colab.research.google.com/assets/colab-badge.svg\" alt=\"Open In Colab\"/></a>"
      ]
    },
    {
      "cell_type": "code",
      "metadata": {
        "colab": {
          "base_uri": "https://localhost:8080/"
        },
        "id": "12832AY4sZ4f",
        "outputId": "3b5672b6-6042-498f-8358-38b43b620a12"
      },
      "source": [
        "def shell_sort(arr):\r\n",
        "    size = len(arr)\r\n",
        "    gap = size//2\r\n",
        "\r\n",
        "    while gap > 0:\r\n",
        "        for i in range(gap,size):\r\n",
        "            anchor = arr[i]\r\n",
        "            j = i\r\n",
        "            while j>=gap and arr[j-gap]>anchor:\r\n",
        "                arr[j] = arr[j-gap]\r\n",
        "                j -= gap\r\n",
        "            arr[j] = anchor\r\n",
        "        gap = gap // 2\r\n",
        "\r\n",
        "def foo(arr):\r\n",
        "    size = len(arr)\r\n",
        "    gap = size // 2\r\n",
        "    gap = 3\r\n",
        "    for i in range(gap, size):\r\n",
        "        anchor = arr[i]\r\n",
        "        j = i\r\n",
        "        while j>=gap and arr[j-gap]>anchor:\r\n",
        "            arr[j] = arr[j-gap]\r\n",
        "            j -= gap\r\n",
        "        arr[j] = anchor\r\n",
        "\r\n",
        "if __name__ == '__main__':\r\n",
        "    elements = [2,4,1,3,8,6]\r\n",
        "    print(\"List =======>\",elements) \r\n",
        "    shell_sort(elements)\r\n",
        "    print(\"SortedList =>\",elements)"
      ],
      "execution_count": 2,
      "outputs": [
        {
          "output_type": "stream",
          "text": [
            "List =======> [2, 4, 1, 3, 8, 6]\n",
            "SortedList => [1, 2, 3, 4, 6, 8]\n"
          ],
          "name": "stdout"
        }
      ]
    }
  ]
}