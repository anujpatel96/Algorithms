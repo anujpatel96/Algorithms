{
  "nbformat": 4,
  "nbformat_minor": 0,
  "metadata": {
    "colab": {
      "name": "Jump Search.ipynb",
      "provenance": [],
      "authorship_tag": "ABX9TyOBmMBjEFjPPSKY2/gkvwIb",
      "include_colab_link": true
    },
    "kernelspec": {
      "name": "python3",
      "display_name": "Python 3"
    }
  },
  "cells": [
    {
      "cell_type": "markdown",
      "metadata": {
        "id": "view-in-github",
        "colab_type": "text"
      },
      "source": [
        "<a href=\"https://colab.research.google.com/github/anujpatel96/Algorithms/blob/main/Jump_Search.ipynb\" target=\"_parent\"><img src=\"https://colab.research.google.com/assets/colab-badge.svg\" alt=\"Open In Colab\"/></a>"
      ]
    },
    {
      "cell_type": "code",
      "metadata": {
        "colab": {
          "base_uri": "https://localhost:8080/"
        },
        "id": "tp04wYaR6GVX",
        "outputId": "4a11031d-7630-4962-8262-192e962c37a9"
      },
      "source": [
        "#The function is built assuming the input is gonna be Sorted Array.\r\n",
        "import math\r\n",
        "\r\n",
        "def JumpSearch(arr, element):\r\n",
        "  jump = int(math.sqrt(len(arr)))\r\n",
        "\r\n",
        "  for i in range(0, len(arr), jump):\r\n",
        "    if arr[i] == element:\r\n",
        "      return i\r\n",
        "    elif arr[i] > element:\r\n",
        "      for j in range(i, (i - jump -1),-1):\r\n",
        "        if arr[j] == element:\r\n",
        "          return j\r\n",
        "  else:\r\n",
        "    print(\"Element is not in the list\")\r\n",
        "\r\n",
        "if __name__ == '__main__':\r\n",
        "    numbers_list = [1,2,3,4,5,6,7,8]\r\n",
        "    number_to_find = 6\r\n",
        "    print(\"Jump Seach found the element at index:\", JumpSearch(numbers_list, number_to_find))\r\n"
      ],
      "execution_count": 16,
      "outputs": [
        {
          "output_type": "stream",
          "text": [
            "Jump Seach found the element at index: 5\n"
          ],
          "name": "stdout"
        }
      ]
    }
  ]
}