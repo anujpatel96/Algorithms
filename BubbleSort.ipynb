{
  "nbformat": 4,
  "nbformat_minor": 0,
  "metadata": {
    "colab": {
      "name": "BubbleSort.ipynb",
      "provenance": [],
      "collapsed_sections": [],
      "authorship_tag": "ABX9TyNzwgTemK0f+gvwubRTAk/u",
      "include_colab_link": true
    },
    "kernelspec": {
      "name": "python3",
      "display_name": "Python 3"
    }
  },
  "cells": [
    {
      "cell_type": "markdown",
      "metadata": {
        "id": "view-in-github",
        "colab_type": "text"
      },
      "source": [
        "<a href=\"https://colab.research.google.com/github/anujpatel96/Algorithms/blob/main/BubbleSort.ipynb\" target=\"_parent\"><img src=\"https://colab.research.google.com/assets/colab-badge.svg\" alt=\"Open In Colab\"/></a>"
      ]
    },
    {
      "cell_type": "code",
      "metadata": {
        "colab": {
          "base_uri": "https://localhost:8080/"
        },
        "id": "4BPR-NGgoooP",
        "outputId": "48e01225-9aff-4198-a9fa-f9402381778d"
      },
      "source": [
        "def bubble_sort(elements):\r\n",
        "    for i in range(len(elements)-1):\r\n",
        "        swapped = False\r\n",
        "        for j in range(len(elements)-1-i):\r\n",
        "            if elements[j] > elements[j+1]:\r\n",
        "              elements[j], elements[j+1] = elements[j+1], elements[j]\r\n",
        "              swapped = True\r\n",
        "\r\n",
        "        if not swapped:\r\n",
        "            break\r\n",
        "\r\n",
        "if __name__ == '__main__':\r\n",
        "    A = [2,4,1,3,8,6]\r\n",
        "    print(\"List1 ======>\", A)\r\n",
        "    bubble_sort(A)\r\n",
        "    print(\"SortedList =>\", A)\r\n",
        "\r\n",
        "    B = [\"Anuj\", \"Maulik\", \"Tirth\", \"Bhavin\", \"Malvik\", \"Harsh\"]\r\n",
        "    print(\"\\nList2 ======>\", B)\r\n",
        "    bubble_sort(B)\r\n",
        "    print(\"SortedList =>\", B)"
      ],
      "execution_count": 6,
      "outputs": [
        {
          "output_type": "stream",
          "text": [
            "List1 ======> [2, 4, 1, 3, 8, 6]\n",
            "SortedList => [1, 2, 3, 4, 6, 8]\n",
            "\n",
            "List2 ======> ['Anuj', 'Maulik', 'Tirth', 'Bhavin', 'Malvik', 'Harsh']\n",
            "SortedList => ['Anuj', 'Bhavin', 'Harsh', 'Malvik', 'Maulik', 'Tirth']\n"
          ],
          "name": "stdout"
        }
      ]
    }
  ]
}