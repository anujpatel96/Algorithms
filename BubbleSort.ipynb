{
  "nbformat": 4,
  "nbformat_minor": 0,
  "metadata": {
    "colab": {
      "name": "BubbleSort.ipynb",
      "provenance": [],
      "collapsed_sections": [],
      "authorship_tag": "ABX9TyM8ZQjP8SvHDC26k4tkRzS6",
      "include_colab_link": true
    },
    "kernelspec": {
      "name": "python3",
      "display_name": "Python 3"
    }
  },
  "cells": [
    {
      "cell_type": "markdown",
      "metadata": {
        "id": "view-in-github",
        "colab_type": "text"
      },
      "source": [
        "<a href=\"https://colab.research.google.com/github/anujpatel96/Algorithms/blob/main/BubbleSort.ipynb\" target=\"_parent\"><img src=\"https://colab.research.google.com/assets/colab-badge.svg\" alt=\"Open In Colab\"/></a>"
      ]
    },
    {
      "cell_type": "code",
      "metadata": {
        "colab": {
          "base_uri": "https://localhost:8080/"
        },
        "id": "4BPR-NGgoooP",
        "outputId": "022c6767-3852-4272-dfdf-b35a564f011f"
      },
      "source": [
        "def bubble_sort(elements):\r\n",
        "    for i in range(len(elements)-1):\r\n",
        "        swapped = False\r\n",
        "        for j in range(len(elements)-1-i):\r\n",
        "            if elements[j] > elements[j+1]:\r\n",
        "              elements[j], elements[j+1] = elements[j+1], elements[j]\r\n",
        "              swapped = True\r\n",
        "\r\n",
        "        if not swapped:\r\n",
        "            break\r\n",
        "\r\n",
        "if __name__ == '__main__':\r\n",
        "    A = [11,56,78,34,65,2,36,93,6]\r\n",
        "    B = [\"Anuj\", \"Maulik\", \"Tirth\", \"Bhavin\", \"Malvik\", \"Harsh\"]\r\n",
        "\r\n",
        "    bubble_sort(A)\r\n",
        "    print(A)\r\n",
        "    bubble_sort(B)\r\n",
        "    print(B)\r\n",
        "   "
      ],
      "execution_count": 3,
      "outputs": [
        {
          "output_type": "stream",
          "text": [
            "[2, 6, 11, 34, 36, 56, 65, 78, 93]\n",
            "['Anuj', 'Bhavin', 'Harsh', 'Malvik', 'Maulik', 'Tirth']\n"
          ],
          "name": "stdout"
        }
      ]
    }
  ]
}