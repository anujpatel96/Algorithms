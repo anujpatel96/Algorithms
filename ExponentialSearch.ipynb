{
  "nbformat": 4,
  "nbformat_minor": 0,
  "metadata": {
    "colab": {
      "name": "ExponentialSearch.ipynb",
      "provenance": [],
      "collapsed_sections": [],
      "authorship_tag": "ABX9TyPMPpWycWeFqiRHYrmzRYfa",
      "include_colab_link": true
    },
    "kernelspec": {
      "name": "python3",
      "display_name": "Python 3"
    }
  },
  "cells": [
    {
      "cell_type": "markdown",
      "metadata": {
        "id": "view-in-github",
        "colab_type": "text"
      },
      "source": [
        "<a href=\"https://colab.research.google.com/github/anujpatel96/Algorithms/blob/main/ExponentialSearch.ipynb\" target=\"_parent\"><img src=\"https://colab.research.google.com/assets/colab-badge.svg\" alt=\"Open In Colab\"/></a>"
      ]
    },
    {
      "cell_type": "code",
      "metadata": {
        "colab": {
          "base_uri": "https://localhost:8080/"
        },
        "id": "iq3jl0dJUkU5",
        "outputId": "6e9aa444-e72c-4de8-81fc-a7d97ce17518"
      },
      "source": [
        "import math\r\n",
        "def ExponentialSearch(arr,arr_length,element):\r\n",
        "  if arr[0] == element:\r\n",
        "    return 0\r\n",
        "  i = 1\r\n",
        "  while (i < arr_length and arr[i] <= element):\r\n",
        "    i = i * 2;\r\n",
        "  return binary_search(arr[:i+1],element)    #Doing binary search from arr[0] to arr[i+1]\r\n",
        "\r\n",
        "def binary_search(numbers_list, number_to_find):\r\n",
        "    left_index = 0\r\n",
        "    right_index = len(numbers_list) - 1\r\n",
        "    mid_index = 0\r\n",
        "\r\n",
        "    while left_index <= right_index:\r\n",
        "        mid_index = (left_index + right_index) // 2\r\n",
        "        mid_number = numbers_list[mid_index]\r\n",
        "\r\n",
        "        if mid_number == number_to_find:\r\n",
        "            return mid_index\r\n",
        "\r\n",
        "        if mid_number < number_to_find:\r\n",
        "            left_index = mid_index + 1\r\n",
        "        else:\r\n",
        "            right_index = mid_index - 1\r\n",
        "    print(\"Number is not in the list\")\r\n",
        "\r\n",
        "if __name__ == '__main__':\r\n",
        "    numbers_list = [1,2,3,4,5,6]\r\n",
        "    number_to_find = 4\r\n",
        "    list_length = len(numbers_list)\r\n",
        "\r\n",
        "    index = ExponentialSearch(numbers_list, list_length, number_to_find)\r\n",
        "    print(f\"ExponentialSearch found the number at index:\", index)"
      ],
      "execution_count": 28,
      "outputs": [
        {
          "output_type": "stream",
          "text": [
            "ExponentialSearch found the number at index: 3\n"
          ],
          "name": "stdout"
        }
      ]
    }
  ]
}