{
  "nbformat": 4,
  "nbformat_minor": 0,
  "metadata": {
    "colab": {
      "name": "QuickSort.ipynb",
      "provenance": [],
      "collapsed_sections": [],
      "authorship_tag": "ABX9TyPCzAjYPCO4wIKn1ObJPpVT",
      "include_colab_link": true
    },
    "kernelspec": {
      "name": "python3",
      "display_name": "Python 3"
    }
  },
  "cells": [
    {
      "cell_type": "markdown",
      "metadata": {
        "id": "view-in-github",
        "colab_type": "text"
      },
      "source": [
        "<a href=\"https://colab.research.google.com/github/anujpatel96/Algorithms/blob/main/QuickSort.ipynb\" target=\"_parent\"><img src=\"https://colab.research.google.com/assets/colab-badge.svg\" alt=\"Open In Colab\"/></a>"
      ]
    },
    {
      "cell_type": "code",
      "metadata": {
        "colab": {
          "base_uri": "https://localhost:8080/"
        },
        "id": "vZvO6PpiCOxp",
        "outputId": "2703f9b3-3375-482e-d7f6-45ef3ddc8c1b"
      },
      "source": [
        "def swap(a, b, arr):\r\n",
        "    if a!=b:\r\n",
        "        tmp = arr[a]\r\n",
        "        arr[a] = arr[b]\r\n",
        "        arr[b] = tmp\r\n",
        "\r\n",
        "def quick_sort(elements, start, end):\r\n",
        "    if start < end:\r\n",
        "        pi = partition(elements, start, end)\r\n",
        "        quick_sort(elements, start, pi-1)\r\n",
        "        quick_sort(elements, pi+1, end)\r\n",
        "\r\n",
        "def partition(elements, start, end):\r\n",
        "    pivot_index = start\r\n",
        "    pivot = elements[pivot_index]\r\n",
        "\r\n",
        "    while start < end:\r\n",
        "        while start < len(elements) and elements[start] <= pivot:\r\n",
        "            start+=1\r\n",
        "\r\n",
        "        while elements[end] > pivot:\r\n",
        "            end-=1\r\n",
        "\r\n",
        "        if start < end:\r\n",
        "            swap(start, end, elements)\r\n",
        "\r\n",
        "    swap(pivot_index, end, elements)\r\n",
        "\r\n",
        "    return end\r\n",
        "\r\n",
        "\r\n",
        "if __name__ == '__main__':\r\n",
        "  A = [2,4,1,3,8,6]\r\n",
        "  print(\"List1 ======>\", A)\r\n",
        "  quick_sort(A , 0 ,len(A)-1 )\r\n",
        "  print(\"SortedList =>\", A)\r\n",
        "\r\n",
        "  B = [\"Anuj\", \"Maulik\", \"Tirth\", \"Bhavin\", \"Malvik\", \"Harsh\"]\r\n",
        "  print(\"\\nList2 ======>\", B)\r\n",
        "  quick_sort(B, 0 , len(B)-1 )\r\n",
        "  print(\"SortedList =>\", B)\r\n",
        "  "
      ],
      "execution_count": 1,
      "outputs": [
        {
          "output_type": "stream",
          "text": [
            "List1 ======> [2, 4, 1, 3, 8, 6]\n",
            "SortedList => [1, 2, 3, 4, 6, 8]\n",
            "\n",
            "List2 ======> ['Anuj', 'Maulik', 'Tirth', 'Bhavin', 'Malvik', 'Harsh']\n",
            "SortedList => ['Anuj', 'Bhavin', 'Harsh', 'Malvik', 'Maulik', 'Tirth']\n"
          ],
          "name": "stdout"
        }
      ]
    }
  ]
}