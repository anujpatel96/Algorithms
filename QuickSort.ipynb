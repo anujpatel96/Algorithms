{
  "nbformat": 4,
  "nbformat_minor": 0,
  "metadata": {
    "colab": {
      "name": "QuickSort.ipynb",
      "provenance": [],
      "authorship_tag": "ABX9TyM0AfGolLp9Bf9yuGsqiM+5",
      "include_colab_link": true
    },
    "kernelspec": {
      "name": "python3",
      "display_name": "Python 3"
    }
  },
  "cells": [
    {
      "cell_type": "markdown",
      "metadata": {
        "id": "view-in-github",
        "colab_type": "text"
      },
      "source": [
        "<a href=\"https://colab.research.google.com/github/anujpatel96/Algorithms/blob/main/QuickSort.ipynb\" target=\"_parent\"><img src=\"https://colab.research.google.com/assets/colab-badge.svg\" alt=\"Open In Colab\"/></a>"
      ]
    },
    {
      "cell_type": "code",
      "metadata": {
        "colab": {
          "base_uri": "https://localhost:8080/"
        },
        "id": "vZvO6PpiCOxp",
        "outputId": "c624029b-1d1e-432c-a188-66f2f76b4920"
      },
      "source": [
        "def swap(a, b, arr):\r\n",
        "    if a!=b:\r\n",
        "        tmp = arr[a]\r\n",
        "        arr[a] = arr[b]\r\n",
        "        arr[b] = tmp\r\n",
        "\r\n",
        "def quick_sort(elements, start, end):\r\n",
        "    if start < end:\r\n",
        "        pi = partition(elements, start, end)\r\n",
        "        quick_sort(elements, start, pi-1)\r\n",
        "        quick_sort(elements, pi+1, end)\r\n",
        "\r\n",
        "def partition(elements, start, end):\r\n",
        "    pivot_index = start\r\n",
        "    pivot = elements[pivot_index]\r\n",
        "\r\n",
        "    while start < end:\r\n",
        "        while start < len(elements) and elements[start] <= pivot:\r\n",
        "            start+=1\r\n",
        "\r\n",
        "        while elements[end] > pivot:\r\n",
        "            end-=1\r\n",
        "\r\n",
        "        if start < end:\r\n",
        "            swap(start, end, elements)\r\n",
        "\r\n",
        "    swap(pivot_index, end, elements)\r\n",
        "\r\n",
        "    return end\r\n",
        "\r\n",
        "\r\n",
        "if __name__ == '__main__':\r\n",
        "  A = [2,4,1,3,8,6]\r\n",
        "  quick_sort(A,0,len(A) - 1)\r\n",
        "  print(A)"
      ],
      "execution_count": 11,
      "outputs": [
        {
          "output_type": "stream",
          "text": [
            "[1, 2, 3, 4, 6, 8]\n"
          ],
          "name": "stdout"
        }
      ]
    }
  ]
}