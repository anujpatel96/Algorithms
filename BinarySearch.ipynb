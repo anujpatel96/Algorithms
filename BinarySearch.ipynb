{
  "nbformat": 4,
  "nbformat_minor": 0,
  "metadata": {
    "colab": {
      "name": "BinarySearch.ipynb",
      "provenance": [],
      "authorship_tag": "ABX9TyME4JQnZwVrnKuGZKsr5Cb8",
      "include_colab_link": true
    },
    "kernelspec": {
      "name": "python3",
      "display_name": "Python 3"
    }
  },
  "cells": [
    {
      "cell_type": "markdown",
      "metadata": {
        "id": "view-in-github",
        "colab_type": "text"
      },
      "source": [
        "<a href=\"https://colab.research.google.com/github/anujpatel96/Algorithms/blob/main/BinarySearch.ipynb\" target=\"_parent\"><img src=\"https://colab.research.google.com/assets/colab-badge.svg\" alt=\"Open In Colab\"/></a>"
      ]
    },
    {
      "cell_type": "code",
      "metadata": {
        "colab": {
          "base_uri": "https://localhost:8080/"
        },
        "id": "-cB_4u6ZcSFV",
        "outputId": "cfae155e-ad58-4a23-ccc9-f87c4d9ff9a4"
      },
      "source": [
        "import time\r\n",
        "def time_it(func):\r\n",
        "    def wrapper(*args, **kwargs):\r\n",
        "        start = time.time()\r\n",
        "        result = func(*args,**kwargs)\r\n",
        "        end = time.time()\r\n",
        "        print(func.__name__ +\" took \" + str((end-start)*1000) + \" mil sec\")\r\n",
        "        return result\r\n",
        "    return wrapper\r\n",
        "@time_it\r\n",
        "def linear_search(numbers_list, number_to_find):\r\n",
        "    for index, element in enumerate(numbers_list):\r\n",
        "        if element == number_to_find:\r\n",
        "            return index\r\n",
        "    return -1\r\n",
        "@time_it\r\n",
        "\r\n",
        "\r\n",
        "def binary_search(numbers_list, number_to_find):\r\n",
        "    left_index = 0\r\n",
        "    right_index = len(numbers_list) - 1\r\n",
        "    mid_index = 0\r\n",
        "\r\n",
        "    while left_index <= right_index:\r\n",
        "        mid_index = (left_index + right_index) // 2\r\n",
        "        mid_number = numbers_list[mid_index]\r\n",
        "\r\n",
        "        if mid_number == number_to_find:\r\n",
        "            return mid_index\r\n",
        "\r\n",
        "        if mid_number < number_to_find:\r\n",
        "            left_index = mid_index + 1\r\n",
        "        else:\r\n",
        "            right_index = mid_index - 1\r\n",
        "\r\n",
        "    return -1\r\n",
        "@time_it\r\n",
        "\r\n",
        "def binary_search_recursive(numbers_list, number_to_find, left_index, right_index):\r\n",
        "    if right_index < left_index:\r\n",
        "        return -1\r\n",
        "\r\n",
        "    mid_index = (left_index + right_index) // 2\r\n",
        "    if mid_index >= len(numbers_list) or mid_index < 0:\r\n",
        "        return -1\r\n",
        "\r\n",
        "    mid_number = numbers_list[mid_index]\r\n",
        "\r\n",
        "    if mid_number == number_to_find:\r\n",
        "        return mid_index\r\n",
        "\r\n",
        "    if mid_number < number_to_find:\r\n",
        "        left_index = mid_index + 1\r\n",
        "    else:\r\n",
        "        right_index = mid_index - 1\r\n",
        "\r\n",
        "    return binary_search_recursive(numbers_list, number_to_find, left_index, right_index)\r\n",
        "\r\n",
        "if __name__ == '__main__':\r\n",
        "    numbers_list = [i for i in range(1000000)]\r\n",
        "    number_to_find = 950010\r\n",
        "\r\n",
        "    index = binary_search(numbers_list, number_to_find)\r\n",
        "    print(f\"Number found at index {index} using binary search \\n\")\r\n",
        "\r\n",
        "    index = linear_search(numbers_list, number_to_find)\r\n",
        "    print(f\"Number found at index {index} using Linear search\")"
      ],
      "execution_count": 25,
      "outputs": [
        {
          "output_type": "stream",
          "text": [
            "binary_search took 0.021457672119140625 mil sec\n",
            "Number found at index 950010 using binary search \n",
            "\n",
            "linear_search took 58.04586410522461 mil sec\n",
            "Number found at index 950010 using Linear search\n"
          ],
          "name": "stdout"
        }
      ]
    }
  ]
}