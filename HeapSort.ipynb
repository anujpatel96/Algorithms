{
  "nbformat": 4,
  "nbformat_minor": 0,
  "metadata": {
    "colab": {
      "name": "HeapSort.ipynb",
      "provenance": [],
      "collapsed_sections": [],
      "authorship_tag": "ABX9TyNyhbdjFIU7LKfaqoC3YYJ+",
      "include_colab_link": true
    },
    "kernelspec": {
      "name": "python3",
      "display_name": "Python 3"
    }
  },
  "cells": [
    {
      "cell_type": "markdown",
      "metadata": {
        "id": "view-in-github",
        "colab_type": "text"
      },
      "source": [
        "<a href=\"https://colab.research.google.com/github/anujpatel96/Algorithms/blob/main/HeapSort.ipynb\" target=\"_parent\"><img src=\"https://colab.research.google.com/assets/colab-badge.svg\" alt=\"Open In Colab\"/></a>"
      ]
    },
    {
      "cell_type": "code",
      "metadata": {
        "colab": {
          "base_uri": "https://localhost:8080/"
        },
        "id": "tJgXPKoEPLAa",
        "outputId": "52d1c054-e9d7-4068-d802-3cf4bf8d8140"
      },
      "source": [
        "def heapify(arr,heap_size,index):\r\n",
        "  maximum = index\r\n",
        "  left_index = 2 * index + 1\r\n",
        "  right_index = 2 * index + 2\r\n",
        "\r\n",
        "  if left_index < heap_size and arr[maximum] < arr[left_index]:\r\n",
        "    maximum = left_index\r\n",
        "  if right_index < heap_size and arr[maximum] < arr[right_index]:\r\n",
        "    maximum = right_index  \r\n",
        "  if maximum != index:\r\n",
        "    arr[maximum], arr[index] = arr[index], arr[maximum]\r\n",
        "    return heapify(arr,heap_size,maximum)\r\n",
        "\r\n",
        "def heapSort(arr):\r\n",
        "  size = len(arr)\r\n",
        "  for i in range(size//2 - 1, -1, -1):\r\n",
        "    heapify(arr,size,i)\r\n",
        "  for i in range(size-1, 0, -1):\r\n",
        "        arr[i], arr[0] = arr[0], arr[i]  \r\n",
        "        heapify(arr, i, 0)\r\n",
        "  return arr\r\n",
        "  \r\n",
        "if __name__ == '__main__':\r\n",
        "    elements = [2,4,1,3,8,6]\r\n",
        "    print(\"List =======>\",elements) \r\n",
        "    heapSort(elements)\r\n",
        "    print(\"SortedList =>\",elements) \r\n"
      ],
      "execution_count": 11,
      "outputs": [
        {
          "output_type": "stream",
          "text": [
            "List =======> [2, 4, 1, 3, 8, 6]\n",
            "SortedList => [1, 2, 3, 4, 6, 8]\n"
          ],
          "name": "stdout"
        }
      ]
    }
  ]
}